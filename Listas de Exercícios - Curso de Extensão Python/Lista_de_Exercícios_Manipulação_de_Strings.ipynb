{
  "nbformat": 4,
  "nbformat_minor": 0,
  "metadata": {
    "colab": {
      "provenance": []
    },
    "kernelspec": {
      "name": "python3",
      "display_name": "Python 3"
    },
    "language_info": {
      "name": "python"
    }
  },
  "cells": [
    {
      "cell_type": "markdown",
      "source": [
        "1. ***Solicite ao usuário que digite uma frase. Imprima:***\n",
        "\n",
        "*   ***O tamanho (em caracteres) da frase.***\n",
        "*   ***A frase toda em maiúscula.***\n",
        "*   ***A frase toda em minúscula.***\n",
        "*   ***A frase na vertical(letra por letra).***\n",
        "*   ***Solicite ao usuário que informe uma posição inicial e final na frase, e imprima a parte da frase que se encontra dentro das posições informadas pelo usuário.***\n",
        "*   ***A frase em ordem inversa.***\n",
        "*   ***Solicite ao usuário que informe duas palavras. Substitua, na frase informada, a primeira palavra informada pelo usuário, pela segunda palavra informada. Armazene a nova frase em uma nova variável, e imprima o conteúdo da nova variável.***\n",
        "\n",
        "\n",
        "\n"
      ],
      "metadata": {
        "id": "Hywjkahn-h-P"
      }
    },
    {
      "cell_type": "code",
      "source": [
        "# Tamanho da frase.\n",
        "\n",
        "frase = input(\"Digite uma frase: \")\n",
        "tamanho = len(frase)\n",
        "\n",
        "\n",
        "# Frase em maiúscula.\n",
        "\n",
        "frase_mai = frase.upper()\n",
        "\n",
        "print(\"A frase em maiúsculas é:\", frase_mai)\n",
        "\n",
        "\n",
        "# Frase em minúscula.\n",
        "\n",
        "print(\"O tamanho da frase é:\", tamanho)\n",
        "\n",
        "frase_min = frase.lower()\n",
        "\n",
        "print(\"A frase em minúsculas é:\", frase_min)\n",
        "\n",
        "\n",
        "# Frase na vertical.\n",
        "\n",
        "for letra in frase:\n",
        "    print(letra)\n",
        "\n",
        "\n",
        "# Posição inicial e posição final da frase.\n",
        "\n",
        "pos_inicial = int(input(\"Digite a posição inicial: \"))\n",
        "pos_final = int(input(\"Digite a posição final: \"))\n",
        "\n",
        "parte_frase = frase[pos_inicial:pos_final]\n",
        "\n",
        "print(\"A parte da frase que se encontra dentro das posições informadas é:\", parte_frase)\n",
        "\n",
        "\n",
        "# Frase em ordem inversa.\n",
        "\n",
        "frase_inv = frase[::-1]\n",
        "\n",
        "print(\"A frase em ordem inversa é:\", frase_inv)\n",
        "\n",
        "\n",
        "# Duas palavras em frases informadas.\n",
        "\n",
        "palavra1 = input(\"Digite a primeira palavra: \")\n",
        "palavra2 = input(\"Digite a segunda palavra: \")\n",
        "\n",
        "nova_frase = frase.replace(palavra1, palavra2)\n",
        "\n",
        "print(\"A nova frase é:\", nova_frase)"
      ],
      "metadata": {
        "id": "1sHZuMM3_teG"
      },
      "execution_count": null,
      "outputs": []
    },
    {
      "cell_type": "markdown",
      "source": [
        "***2. Solicite ao usuário que digite uma frase. Em seguida, solicite ao mesmo que digite uma palavra. Imprima uma mensagem informando a quantidade de vezes em que a palavra se encontra na frase (considere que a palavra pode estar em maiúscula ou minúscula na frase).***\n"
      ],
      "metadata": {
        "id": "wqKshq6AEi9g"
      }
    },
    {
      "cell_type": "code",
      "source": [
        "frase = input(\"Digite uma frase: \")\n",
        "palavra = input(\"Digite uma palavra: \")\n",
        "print(frase.count(palavra)) "
      ],
      "metadata": {
        "id": "y01MMUKzEvnA"
      },
      "execution_count": null,
      "outputs": []
    },
    {
      "cell_type": "markdown",
      "source": [
        "***3. Solicite ao usuário que digite uma frase. Em seguida, solicite ao mesmo que informe um caractere de maneira que a frase seja dividida em partes de acordo com o caractere informado. Imprima na tela a frase dividida.***\n"
      ],
      "metadata": {
        "id": "7rvmuAWmGkdj"
      }
    },
    {
      "cell_type": "code",
      "source": [
        "frase = \"Olá, como você está?\"\n",
        "caractere = \",\"\n",
        "partes = frase.split(caractere)\n",
        "print(partes)"
      ],
      "metadata": {
        "id": "-IPaCqzpGrtj"
      },
      "execution_count": null,
      "outputs": []
    },
    {
      "cell_type": "markdown",
      "source": [
        "***4. Solicite ao usuário que digite uma palavra. Em seguida, solicite ao mesmo que informe um caractere separador, de maneira que o separador seja incluído na palavra, separando cada letra da palavra digitada.*** \n"
      ],
      "metadata": {
        "id": "mrRq3L0BHIa0"
      }
    },
    {
      "cell_type": "code",
      "source": [
        "palavra = \"Super Saiyajin Goku\"\n",
        "caractere = \"-\"\n",
        "letras = list(palavra)\n",
        "palavra_separada = caractere.join(letras)\n",
        "print(palavra_separada)"
      ],
      "metadata": {
        "id": "5mk0cuF3HS0U"
      },
      "execution_count": null,
      "outputs": []
    },
    {
      "cell_type": "markdown",
      "source": [
        "***5. Solicite ao usuário que digite uma palavra e imprima uma mensagem informando se a palavra é ou não um palíndromo (uma palavra que se lê da mesma maneira nos dois sentidos. Por exemplo: OVO, RADAR, OSSO etc.)***\n"
      ],
      "metadata": {
        "id": "FORAxUOMHm7j"
      }
    },
    {
      "cell_type": "code",
      "source": [
        "palavra = \"Arara\"\n",
        "palavra_invertida = palavra[::-1]\n",
        "if palavra == palavra_invertida:\n",
        "    print(\"A palavra é um palíndromo!\")\n",
        "else:\n",
        "    print(\"A palavra não é um palíndromo.\")"
      ],
      "metadata": {
        "id": "26NkY3hYHtoj"
      },
      "execution_count": null,
      "outputs": []
    }
  ]
}