{
  "nbformat": 4,
  "nbformat_minor": 0,
  "metadata": {
    "colab": {
      "provenance": []
    },
    "kernelspec": {
      "name": "python3",
      "display_name": "Python 3"
    },
    "language_info": {
      "name": "python"
    }
  },
  "cells": [
    {
      "cell_type": "markdown",
      "source": [
        "***1. Faça um programa contendo funções que recebam:***\n",
        "\n",
        "*   ***Um número inteiro e que retorne o dobro deste número.***\n",
        "*   ***Dois números inteiros e que retorne o maior entre eles.***\n",
        "*   ***Um número inteiro e que retorne o valor do fatorial deste número.***\n",
        "*   ***Um número inteiro e positivo, que retorne a soma dos elementos inteiros existentes entre 1 e o número (inclusive).***\n",
        "*   ***Um número inteiro que retorne True se o número for par, e False caso contrário.***\n",
        "\n",
        "\n"
      ],
      "metadata": {
        "id": "qw3v1APHANiI"
      }
    },
    {
      "cell_type": "code",
      "source": [
        "def dobro(n):\n",
        "    return n * 2\n",
        "\n",
        "def maior_entre_dois(n1, n2):\n",
        "    return max(n1, n2)\n",
        "\n",
        "def fatorial(n):\n",
        "    if n == 0:\n",
        "        return 1\n",
        "    else:\n",
        "        return n * fatorial(n-1)\n",
        "\n",
        "def soma_ate_n(n):\n",
        "    soma = 0\n",
        "    for i in range(1, n+1):\n",
        "        soma += i\n",
        "    return soma\n",
        "\n",
        "def par(n):\n",
        "    if n % 2 == 0:\n",
        "        return True\n",
        "    else:\n",
        "        return False"
      ],
      "metadata": {
        "id": "AzXPH_R-BDY3"
      },
      "execution_count": null,
      "outputs": []
    }
  ]
}