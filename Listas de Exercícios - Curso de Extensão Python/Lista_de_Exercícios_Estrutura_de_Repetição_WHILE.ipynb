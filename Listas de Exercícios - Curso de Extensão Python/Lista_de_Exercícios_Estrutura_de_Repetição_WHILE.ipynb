{
  "nbformat": 4,
  "nbformat_minor": 0,
  "metadata": {
    "colab": {
      "provenance": []
    },
    "kernelspec": {
      "name": "python3",
      "display_name": "Python 3"
    },
    "language_info": {
      "name": "python"
    }
  },
  "cells": [
    {
      "cell_type": "markdown",
      "source": [
        "***1. Faça um programa que solicite ao usuário que informe a matrícula e as três notas de um conjunto de alunos. O programa deverá exibir a mensagem informando se o aluno foi aprovado (média maior ou igual a 70), exame (nota maior ou igual a 60 e menor que 70) ou reprovado (nota inferior a 60). O programa irá terminar quando o usuário informar uma matrícula negativa.***\n"
      ],
      "metadata": {
        "id": "5emAondgsZCp"
      }
    },
    {
      "cell_type": "code",
      "source": [
        "while True:\n",
        "    matricula = int(input(\"Digite a matrícula do aluno: \"))\n",
        "    if matricula < 0:\n",
        "        break\n",
        "    nota1 = float(input(\"Digite a primeira nota do aluno: \"))\n",
        "    nota2 = float(input(\"Digite a segunda nota do aluno: \"))\n",
        "    nota3 = float(input(\"Digite a terceira nota do aluno: \"))\n",
        "    media = (nota1 + nota2 + nota3) / 3\n",
        "    if media >= 70:\n",
        "        print(\"O aluno foi aprovado!\")\n",
        "    elif media >= 60 and media <= 70:\n",
        "        print(\"O aluno está de exame.\")\n",
        "    else:\n",
        "        print(\"O aluno foi reprovado.\")"
      ],
      "metadata": {
        "colab": {
          "base_uri": "https://localhost:8080/",
          "height": 467
        },
        "id": "k8m3g-KFsk1X",
        "outputId": "1ccb369d-704e-4ef4-ba52-e712d17c64e9"
      },
      "execution_count": null,
      "outputs": [
        {
          "output_type": "stream",
          "name": "stdout",
          "text": [
            "Digite a matrícula do aluno: 1\n",
            "Digite a primeira nota do aluno: 5\n",
            "Digite a segunda nota do aluno: 3\n",
            "Digite a terceira nota do aluno: 8\n",
            "O aluno foi reprovado.\n"
          ]
        },
        {
          "output_type": "error",
          "ename": "KeyboardInterrupt",
          "evalue": "ignored",
          "traceback": [
            "\u001b[0;31m---------------------------------------------------------------------------\u001b[0m",
            "\u001b[0;31mKeyboardInterrupt\u001b[0m                         Traceback (most recent call last)",
            "\u001b[0;32m<ipython-input-1-fce532a78831>\u001b[0m in \u001b[0;36m<cell line: 1>\u001b[0;34m()\u001b[0m\n\u001b[1;32m      1\u001b[0m \u001b[0;32mwhile\u001b[0m \u001b[0;32mTrue\u001b[0m\u001b[0;34m:\u001b[0m\u001b[0;34m\u001b[0m\u001b[0;34m\u001b[0m\u001b[0m\n\u001b[0;32m----> 2\u001b[0;31m     \u001b[0mmatricula\u001b[0m \u001b[0;34m=\u001b[0m \u001b[0mint\u001b[0m\u001b[0;34m(\u001b[0m\u001b[0minput\u001b[0m\u001b[0;34m(\u001b[0m\u001b[0;34m\"Digite a matrícula do aluno: \"\u001b[0m\u001b[0;34m)\u001b[0m\u001b[0;34m)\u001b[0m\u001b[0;34m\u001b[0m\u001b[0;34m\u001b[0m\u001b[0m\n\u001b[0m\u001b[1;32m      3\u001b[0m     \u001b[0;32mif\u001b[0m \u001b[0mmatricula\u001b[0m \u001b[0;34m<\u001b[0m \u001b[0;36m0\u001b[0m\u001b[0;34m:\u001b[0m\u001b[0;34m\u001b[0m\u001b[0;34m\u001b[0m\u001b[0m\n\u001b[1;32m      4\u001b[0m         \u001b[0;32mbreak\u001b[0m\u001b[0;34m\u001b[0m\u001b[0;34m\u001b[0m\u001b[0m\n\u001b[1;32m      5\u001b[0m     \u001b[0mnota1\u001b[0m \u001b[0;34m=\u001b[0m \u001b[0mfloat\u001b[0m\u001b[0;34m(\u001b[0m\u001b[0minput\u001b[0m\u001b[0;34m(\u001b[0m\u001b[0;34m\"Digite a primeira nota do aluno: \"\u001b[0m\u001b[0;34m)\u001b[0m\u001b[0;34m)\u001b[0m\u001b[0;34m\u001b[0m\u001b[0;34m\u001b[0m\u001b[0m\n",
            "\u001b[0;32m/usr/local/lib/python3.10/dist-packages/ipykernel/kernelbase.py\u001b[0m in \u001b[0;36mraw_input\u001b[0;34m(self, prompt)\u001b[0m\n\u001b[1;32m    849\u001b[0m                 \u001b[0;34m\"raw_input was called, but this frontend does not support input requests.\"\u001b[0m\u001b[0;34m\u001b[0m\u001b[0;34m\u001b[0m\u001b[0m\n\u001b[1;32m    850\u001b[0m             )\n\u001b[0;32m--> 851\u001b[0;31m         return self._input_request(str(prompt),\n\u001b[0m\u001b[1;32m    852\u001b[0m             \u001b[0mself\u001b[0m\u001b[0;34m.\u001b[0m\u001b[0m_parent_ident\u001b[0m\u001b[0;34m,\u001b[0m\u001b[0;34m\u001b[0m\u001b[0;34m\u001b[0m\u001b[0m\n\u001b[1;32m    853\u001b[0m             \u001b[0mself\u001b[0m\u001b[0;34m.\u001b[0m\u001b[0m_parent_header\u001b[0m\u001b[0;34m,\u001b[0m\u001b[0;34m\u001b[0m\u001b[0;34m\u001b[0m\u001b[0m\n",
            "\u001b[0;32m/usr/local/lib/python3.10/dist-packages/ipykernel/kernelbase.py\u001b[0m in \u001b[0;36m_input_request\u001b[0;34m(self, prompt, ident, parent, password)\u001b[0m\n\u001b[1;32m    893\u001b[0m             \u001b[0;32mexcept\u001b[0m \u001b[0mKeyboardInterrupt\u001b[0m\u001b[0;34m:\u001b[0m\u001b[0;34m\u001b[0m\u001b[0;34m\u001b[0m\u001b[0m\n\u001b[1;32m    894\u001b[0m                 \u001b[0;31m# re-raise KeyboardInterrupt, to truncate traceback\u001b[0m\u001b[0;34m\u001b[0m\u001b[0;34m\u001b[0m\u001b[0m\n\u001b[0;32m--> 895\u001b[0;31m                 \u001b[0;32mraise\u001b[0m \u001b[0mKeyboardInterrupt\u001b[0m\u001b[0;34m(\u001b[0m\u001b[0;34m\"Interrupted by user\"\u001b[0m\u001b[0;34m)\u001b[0m \u001b[0;32mfrom\u001b[0m \u001b[0;32mNone\u001b[0m\u001b[0;34m\u001b[0m\u001b[0;34m\u001b[0m\u001b[0m\n\u001b[0m\u001b[1;32m    896\u001b[0m             \u001b[0;32mexcept\u001b[0m \u001b[0mException\u001b[0m \u001b[0;32mas\u001b[0m \u001b[0me\u001b[0m\u001b[0;34m:\u001b[0m\u001b[0;34m\u001b[0m\u001b[0;34m\u001b[0m\u001b[0m\n\u001b[1;32m    897\u001b[0m                 \u001b[0mself\u001b[0m\u001b[0;34m.\u001b[0m\u001b[0mlog\u001b[0m\u001b[0;34m.\u001b[0m\u001b[0mwarning\u001b[0m\u001b[0;34m(\u001b[0m\u001b[0;34m\"Invalid Message:\"\u001b[0m\u001b[0;34m,\u001b[0m \u001b[0mexc_info\u001b[0m\u001b[0;34m=\u001b[0m\u001b[0;32mTrue\u001b[0m\u001b[0;34m)\u001b[0m\u001b[0;34m\u001b[0m\u001b[0;34m\u001b[0m\u001b[0m\n",
            "\u001b[0;31mKeyboardInterrupt\u001b[0m: Interrupted by user"
          ]
        }
      ]
    },
    {
      "cell_type": "markdown",
      "source": [
        "***2. Leia a idade de um número indeterminado de pessoas. Imprima:***\n",
        "\n",
        "*   ***Quantas pessoas possuem idade acima de 50 anos.***\n",
        "*   ***A média de idade das pessoas.***\n",
        "*   ***O percentual de pessoas com idade abaixo de 40 anos***.\n",
        "\n",
        "***A leitura será encerrada quando o usuário informar uma idade negativa.***\n",
        "\n",
        "\n",
        "\n",
        "\n"
      ],
      "metadata": {
        "id": "lIRr5pGztbp9"
      }
    },
    {
      "cell_type": "code",
      "source": [
        "idades = []\n",
        "idade = int(input(\"Digite uma idade: \"))\n",
        "while idade >= 0:\n",
        "    idades.append(idade)\n",
        "    idade = int(input(\"Digite uma idade: \"))\n",
        "\n",
        "media = sum(idades) / len(idades)\n",
        "print(f\"A média das idades é {media:.2f}\")\n",
        "\n",
        "acima_de_50 = len([i for i in idades if i > 50])\n",
        "print(f\"{acima_de_50} pessoas possuem idade acima de 50 anos\")\n",
        "\n",
        "abaixo_de_40 = len([i for i in idades if i < 40])\n",
        "percentual_abaixo_de_40 = abaixo_de_40 / len(idades) * 100\n",
        "print(f\"O percentual de pessoas com idade abaixo de 40 anos é {percentual_abaixo_de_40:.2f}%\")"
      ],
      "metadata": {
        "colab": {
          "base_uri": "https://localhost:8080/"
        },
        "id": "ytzDRsA5uIzv",
        "outputId": "e6d8791a-4a29-4e4e-8926-d72cab175ea5"
      },
      "execution_count": null,
      "outputs": [
        {
          "output_type": "stream",
          "name": "stdout",
          "text": [
            "Digite uma idade: 30\n",
            "Digite uma idade: 40\n",
            "Digite uma idade: 5\n",
            "Digite uma idade: 60\n",
            "Digite uma idade: 38\n",
            "Digite uma idade: 20\n",
            "Digite uma idade: 23\n",
            "Digite uma idade: 67\n",
            "Digite uma idade: -30\n",
            "A média das idades é 35.38\n",
            "2 pessoas possuem idade acima de 50 anos\n",
            "O percentual de pessoas com idade abaixo de 40 anos é 62.50%\n"
          ]
        }
      ]
    },
    {
      "cell_type": "markdown",
      "source": [
        "***3.  A prefeitura de uma cidade fez uma pesquisa entre os seus habitantes, coletando dados sobre o salário e o número de filhos. A prefeitura deseja saber:*** \n",
        "\n",
        "*   ***A média do salário da população;***\n",
        "*   ***A média do número de filhos.***\n",
        "\n"
      ],
      "metadata": {
        "id": "pfnBTtcwuy36"
      }
    },
    {
      "cell_type": "code",
      "source": [
        "salario_total = 0\n",
        "numero_total_filhos = 0\n",
        "numero_habitantes = int(input(\"Digite o número de habitantes da cidade: \"))\n",
        "\n",
        "for i in range(numero_habitantes):\n",
        "    salario = float(input(f\"Digite o salário do {i+1}º habitante: \"))\n",
        "    numero_filhos = int(input(f\"Digite o número de filhos do {i+1}º habitante: \"))\n",
        "\n",
        "    salario_total += salario\n",
        "    numero_total_filhos += numero_filhos\n",
        "\n",
        "media_salario = salario_total / numero_habitantes\n",
        "media_filhos = numero_total_filhos / numero_habitantes\n",
        "\n",
        "print(f\"Média do salário da população: R${media_salario:.2f}\")\n",
        "print(f\"Média do número de filhos da população: {media_filhos:.2f}\")"
      ],
      "metadata": {
        "colab": {
          "base_uri": "https://localhost:8080/"
        },
        "id": "ZmbibjlyvevO",
        "outputId": "9a7939d9-ecf4-47a7-d1f1-ba7b46d3e404"
      },
      "execution_count": null,
      "outputs": [
        {
          "name": "stdout",
          "output_type": "stream",
          "text": [
            "Digite o número de habitantes da cidade: 10\n",
            "Digite o salário do 1º habitante: 4000\n",
            "Digite o número de filhos do 1º habitante: 2\n",
            "Digite o salário do 2º habitante: 1500\n",
            "Digite o número de filhos do 2º habitante: 1\n",
            "Digite o salário do 3º habitante: 3400\n",
            "Digite o número de filhos do 3º habitante: 2\n",
            "Digite o salário do 4º habitante: 2600\n",
            "Digite o número de filhos do 4º habitante: 1\n",
            "Digite o salário do 5º habitante: 4200\n",
            "Digite o número de filhos do 5º habitante: 3\n",
            "Digite o salário do 6º habitante: 3800\n"
          ]
        }
      ]
    }
  ]
}