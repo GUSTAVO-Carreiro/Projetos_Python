{
  "nbformat": 4,
  "nbformat_minor": 0,
  "metadata": {
    "colab": {
      "provenance": []
    },
    "kernelspec": {
      "name": "python3",
      "display_name": "Python 3"
    },
    "language_info": {
      "name": "python"
    }
  },
  "cells": [
    {
      "cell_type": "markdown",
      "source": [
        "***1. Crie uma lista contendo 10 valores inteiros aleatórios, entre 1 e 20. Imprima:***\n",
        "\n",
        "*   ***O maior valor, o menor valor, a soma e a média dos valores na lista.***\n",
        "*   ***Ordene a lista, e em seguida, a imprima em ordem crescente.***\n",
        "*   ***Imprima a lista em ordem decrescente.***\n",
        "*   ***Solicite ao usuário que informe um valor e imprima a quantidade de ocorrências do valor na lista. Imprima uma mensagem, caso o valor não se encontre na lista.***\n",
        "\n",
        "\n"
      ],
      "metadata": {
        "id": "rYFTntjlJ8Ae"
      }
    },
    {
      "cell_type": "code",
      "source": [
        "import random\n",
        "\n",
        "# Maior, menor, soma e média dos valores.\n",
        "\n",
        "lista = []\n",
        "for i in range(10):\n",
        "    lista.append(random.randint(1, 20))\n",
        "\n",
        "print(\"Lista:\", lista)\n",
        "print(\"Maior valor:\", max(lista))\n",
        "print(\"Menor valor:\", min(lista))\n",
        "print(\"Soma:\", sum(lista))\n",
        "print(\"Média:\", sum(lista) / len(lista))\n",
        "\n",
        "\n",
        "# Lista em ordem crescente.\n",
        "\n",
        "print(\"Lista original:\", lista)\n",
        "\n",
        "lista.sort()\n",
        "print(\"Lista ordenada:\", lista)\n",
        "\n",
        "\n",
        "# Lista em ordem decrescente.\n",
        "\n",
        "print(\"Lista original:\", lista)\n",
        "\n",
        "lista.sort(reverse=True)\n",
        "print(\"Lista em ordem decrescente:\", lista)\n",
        "\n",
        "\n",
        "# Quantidade de ocorrências na lista. \n",
        "\n",
        "print(\"Lista:\", lista)\n",
        "\n",
        "valor = int(input(\"Informe um valor: \"))\n",
        "ocorrencias = lista.count(valor)\n",
        "\n",
        "if ocorrencias > 0:\n",
        "    print(f\"O valor {valor} ocorre {ocorrencias} vezes na lista.\")\n",
        "else:\n",
        "    print(f\"O valor {valor} não se encontra na lista.\")"
      ],
      "metadata": {
        "id": "WFtGs_pWKfnu"
      },
      "execution_count": null,
      "outputs": []
    },
    {
      "cell_type": "markdown",
      "source": [
        "***2. Crie duas listas com 10 valores inteiros aleatórios (escolha uma faixa qualquer). Crie outras duas listas: uma que contenha a soma dos elementos de mesma posição das duas listas originais, e outra que contenha a multiplicação dos valores de mesma posição. Imprima em seguida as 3 listas.***"
      ],
      "metadata": {
        "id": "3jfpDgSsMXYj"
      }
    },
    {
      "cell_type": "code",
      "source": [
        "import random\n",
        "\n",
        "lista1 = []\n",
        "lista2 = []\n",
        "for i in range(10):\n",
        "    lista1.append(random.randint(1, 20))\n",
        "    lista2.append(random.randint(1, 20))\n",
        "\n",
        "print(\"Lista 1:\", lista1)\n",
        "print(\"Lista 2:\", lista2)\n",
        "\n",
        "soma = []\n",
        "multiplicacao = []\n",
        "for i in range(10):\n",
        "    soma.append(lista1[i] + lista2[i])\n",
        "    multiplicacao.append(lista1[i] * lista2[i])\n",
        "\n",
        "print(\"Soma:\", soma)\n",
        "print(\"Multiplicação:\", multiplicacao)"
      ],
      "metadata": {
        "id": "B__O-UoxOl3r"
      },
      "execution_count": null,
      "outputs": []
    },
    {
      "cell_type": "markdown",
      "source": [
        "***3. Considere a seguinte lista: [10, 20, 30, 30, 30, 40, 10, 20].*** \n",
        "\t***Faça um programa que exclua todas as ocorrências do número 30 da lista.***\n"
      ],
      "metadata": {
        "id": "OvkhrAw2O7zk"
      }
    },
    {
      "cell_type": "code",
      "source": [
        "lista = [10, 20, 30, 30, 30, 40, 10, 20]\n",
        "while True:\n",
        "    try:\n",
        "        lista.remove(30)\n",
        "    except ValueError:\n",
        "        break\n",
        "\n",
        "print(lista)"
      ],
      "metadata": {
        "id": "k4pmWlhtPZFc"
      },
      "execution_count": null,
      "outputs": []
    },
    {
      "cell_type": "markdown",
      "source": [
        "***4. Crie uma lista contendo 10 valores inteiros aleatórios (escolha uma faixa qualquer). Crie outras duas listas: uma para armazenar os valores pares da primeira lista, e outra para armazenar os valores ímpares. Imprima em seguida as 3 listas.***\n"
      ],
      "metadata": {
        "id": "u2fTpHEpPkXk"
      }
    },
    {
      "cell_type": "code",
      "source": [
        "import random\n",
        "\n",
        "lista = []\n",
        "for i in range(10):\n",
        "    lista.append(random.randint(1, 20))\n",
        "\n",
        "print(\"Lista:\", lista)\n",
        "\n",
        "pares = []\n",
        "impares = []\n",
        "for i in lista:\n",
        "    if i % 2 == 0:\n",
        "        pares.append(i)\n",
        "    else:\n",
        "        impares.append(i)\n",
        "\n",
        "print(\"Pares:\", pares)\n",
        "print(\"Ímpares:\", impares)"
      ],
      "metadata": {
        "id": "_GmzLve5PnXM"
      },
      "execution_count": null,
      "outputs": []
    },
    {
      "cell_type": "markdown",
      "source": [
        "***5. Solicite ao usuário que digite uma data no formato DD/MM/AAAA e imprima a data por extenso. Por exemplo:***\n",
        "\n",
        "*   ***27/05/2023 - 27 de maio de 2023.***\n",
        "*   ***(Dica: crie uma lista contendo o nome de cada mês do ano).***\n",
        "\n"
      ],
      "metadata": {
        "id": "UvkmpBXiP3EE"
      }
    },
    {
      "cell_type": "code",
      "source": [
        "meses = [\"janeiro\", \"fevereiro\", \"março\", \"abril\", \"maio\", \"junho\", \"julho\", \"agosto\", \"setembro\", \"outubro\", \"novembro\", \"dezembro\"]\n",
        "\n",
        "data = input(\"Digite uma data no formato DD/MM/AAAA: \")\n",
        "dia, mes, ano = data.split(\"/\")\n",
        "mes_extenso = meses[int(mes) - 1]\n",
        "\n",
        "print(f\"{dia} de {mes_extenso} de {ano}.\")"
      ],
      "metadata": {
        "id": "p9oiZrJjQSjc"
      },
      "execution_count": null,
      "outputs": []
    },
    {
      "cell_type": "markdown",
      "source": [
        "***6. Faça um programa que gere uma lista contendo 6 números aleatórios, de 1 a 60, que serão jogados na Mega-Sena. Em seguida, solicite ao usuário os 6 números sorteados. Imprima a lista contendo os números jogados, e a quantidade de números acertados no sorteio.***\n"
      ],
      "metadata": {
        "id": "rrs0mBJBQoEs"
      }
    },
    {
      "cell_type": "code",
      "source": [
        "import random\n",
        "\n",
        "numeros_jogados = random.sample(range(1, 61), 6)\n",
        "\n",
        "numeros_sorteados = []\n",
        "for i in range(6):\n",
        "    numero = int(input(f\"Digite o {i + 1}º número sorteado (de 1 a 60): \"))\n",
        "    numeros_sorteados.append(numero)\n",
        "\n",
        "acertos = set(numeros_jogados) & set(numeros_sorteados)\n",
        "\n",
        "print(\"Números jogados:\", numeros_jogados)\n",
        "print(f\"Você acertou {len(acertos)} número(s).\")"
      ],
      "metadata": {
        "id": "vMRVrYWNQt6M"
      },
      "execution_count": null,
      "outputs": []
    }
  ]
}