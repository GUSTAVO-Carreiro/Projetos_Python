{
  "nbformat": 4,
  "nbformat_minor": 0,
  "metadata": {
    "colab": {
      "provenance": []
    },
    "kernelspec": {
      "name": "python3",
      "display_name": "Python 3"
    },
    "language_info": {
      "name": "python"
    }
  },
  "cells": [
    {
      "cell_type": "markdown",
      "source": [
        "***1. Leia três números inteiros e imprima a média aritmética entre esses números.***\n",
        "\n",
        "\n",
        "\n"
      ],
      "metadata": {
        "id": "qohkpmOv12RN"
      }
    },
    {
      "cell_type": "code",
      "source": [
        "num1 = int(input(\"Digite o primeiro número: \"))\n",
        "num2 = int(input(\"Digite o segundo número: \"))\n",
        "num3 = int(input(\"Digite o terceiro número: \"))\n",
        "resultado = (num1 + num2 + num3)/3\n",
        "\n",
        "print(\"A média aritmética entre esses números: \" + str(resultado))"
      ],
      "metadata": {
        "colab": {
          "base_uri": "https://localhost:8080/"
        },
        "id": "IJEP2S6_k7SG",
        "outputId": "0c26de45-bb62-4de2-f07b-93ba0bc4c988"
      },
      "execution_count": null,
      "outputs": [
        {
          "output_type": "stream",
          "name": "stdout",
          "text": [
            "Digite o primeiro número: 4\n",
            "Digite o segundo número: 3\n",
            "Digite o terceiro número: 8\n",
            "A média aritmética entre esses números: 5.0\n"
          ]
        }
      ]
    },
    {
      "cell_type": "markdown",
      "source": [
        "***2. Faça um programa que receba o ano de nascimento de uma pessoa, o ano atual e imprima:***\n",
        "\n",
        "\n",
        "\n",
        "*   ***A idade da pessoa no ano atual.***\n",
        "*  ***A idade que a pessoa terá em 2050.***\n",
        "\n",
        "\n",
        "\n"
      ],
      "metadata": {
        "id": "-3O4sDlv0KXs"
      }
    },
    {
      "cell_type": "code",
      "source": [
        "AnoNascimento = int(input(\"Digite o ano de nascimento: \"))\n",
        "AnoAtual = int(input(\"Digite o ano atual: \"))\n",
        "\n",
        "print(\"Sua idade no ano %s será de: %s anos\" %(AnoAtual, int(AnoAtual) - int(AnoNascimento)))\n",
        "print(\"Sua idade no ano de 2050 será de: %s anos\" %(2050 - int(AnoNascimento)))"
      ],
      "metadata": {
        "id": "w4b-4MRV034P",
        "colab": {
          "base_uri": "https://localhost:8080/"
        },
        "outputId": "3f97ecc1-1265-4eb4-c04c-77176ae48004"
      },
      "execution_count": null,
      "outputs": [
        {
          "output_type": "stream",
          "name": "stdout",
          "text": [
            "Digite o ano de nascimento: 2000\n",
            "Digite o ano atual: 2023\n",
            "Sua idade no ano 2023 será de: 23 anos\n",
            "Sua idade no ano de 2050 será de: 50 anos\n"
          ]
        }
      ]
    },
    {
      "cell_type": "markdown",
      "source": [
        "***3. Faça um programa que solicite ao usuário que informe os coeficientes a, b e c de uma equação de segundo grau, e que imprima as raízes desta equação (considere que os valores informados sempre retornarão raízes reais a equação).***"
      ],
      "metadata": {
        "id": "0K2M30W8mOY-"
      }
    },
    {
      "cell_type": "code",
      "source": [
        "coef1 = float(input(\"Informe o coeficiente A: \"))\n",
        "coef2 = float(input(\"Informe o coeficiente B: \"))\n",
        "coef3 = float(input(\"Informe o coeficiente C: \"))\n",
        "\n",
        "result1 = (-coef2)/coef1\n",
        "result2 = coef3/coef1\n",
        "\n",
        "print(\"As raízes desta equação são: X1 = %s e X2 = %s\" %(result1, result2))"
      ],
      "metadata": {
        "colab": {
          "base_uri": "https://localhost:8080/"
        },
        "id": "LqAieDtNnzfy",
        "outputId": "a54b5f33-1cf5-4f86-8fb1-4decfb3681ed"
      },
      "execution_count": null,
      "outputs": [
        {
          "output_type": "stream",
          "name": "stdout",
          "text": [
            "Informe o coeficiente A: 2\n",
            "Informe o coeficiente B: 4\n",
            "Informe o coeficiente C: 5\n",
            "As raízes desta equação são: X1 = -2.0 e X2 = 2.5\n"
          ]
        }
      ]
    },
    {
      "cell_type": "markdown",
      "source": [
        "***4. Leia um número e imprima a tabuada deste número.***"
      ],
      "metadata": {
        "id": "YS-ycmHS05n8"
      }
    },
    {
      "cell_type": "code",
      "source": [
        "tabuada = int(input(\"Tabuada do número: \"))\n",
        "\n",
        "for count in range(10):\n",
        "    print(\"%d x %d = %d\" %(tabuada, count+1, tabuada*(count+1)) )"
      ],
      "metadata": {
        "id": "zCV_SaF21Cpk"
      },
      "execution_count": null,
      "outputs": []
    },
    {
      "cell_type": "markdown",
      "source": [
        "***5. Receba um número positivo, calcule e mostre:***\n",
        "\n",
        "\n",
        "\n",
        "* ***O número digitado ao quadrado***.\n",
        "\n",
        "*   ***O número digitado ao cubo.***\n",
        "* ***A raiz quadrada do número digitado***.\n",
        "\n",
        "\n",
        "* ***A raiz cúbica do número digitado***. \n",
        "\n",
        "\n"
      ],
      "metadata": {
        "id": "o51ACo_LqFM-"
      }
    },
    {
      "cell_type": "code",
      "source": [
        "num = float(input(\"Digite o número positivo: \"))\n",
        "\n",
        "oper1 = num ** 2\n",
        "oper2 = num ** 3\n",
        "oper3 = num ** (1/2)\n",
        "oper4 = num ** (1/3)\n",
        "\n",
        "print(\"O número %s ao quadrado é: %s \" %(num, oper1))\n",
        "print(\"O número %s ao cubo é: %s \" %(num, oper2))\n",
        "print(\"A raiz quadrada do número é: %s \" %(round(oper3)))\n",
        "print(\"A raiz cúbica do número é: %s \" %(round(oper4)))"
      ],
      "metadata": {
        "colab": {
          "base_uri": "https://localhost:8080/"
        },
        "id": "f-bpHZxvr3PN",
        "outputId": "b2919eb5-bda5-49be-e19c-0a95fdc0ee0f"
      },
      "execution_count": null,
      "outputs": [
        {
          "output_type": "stream",
          "name": "stdout",
          "text": [
            "Digite o número positivo: 4\n",
            "O número 4.0 ao quadrado é: 16.0 \n",
            "O número 4.0 ao cubo é: 64.0 \n",
            "A raiz quadrada do número é: 2 \n",
            "A raiz cúbica do número é: 2 \n"
          ]
        }
      ]
    },
    {
      "cell_type": "markdown",
      "source": [
        "***6. Todo restaurante, embora por lei não possa obrigar o cliente a pagar, cobra 10% para o garçom. Faça um programa que leia o valor gasto pelo cliente e informe a ser pago de gorjeta.***"
      ],
      "metadata": {
        "id": "-0Ub4OYLyAlE"
      }
    },
    {
      "cell_type": "code",
      "source": [
        "num = float(input(\"Digite o valor total da conta: \"))\n",
        "acresc = num * 0.1\n",
        "\n",
        "print(\"O valor do gasto com a gorjeta de %s é de: R$%s\" %(num, acresc))"
      ],
      "metadata": {
        "colab": {
          "base_uri": "https://localhost:8080/"
        },
        "id": "qCX_jWiuyaw5",
        "outputId": "019811cb-7794-4e63-9e41-4388fed146d4"
      },
      "execution_count": null,
      "outputs": [
        {
          "output_type": "stream",
          "name": "stdout",
          "text": [
            "Digite o valor total da conta: 189.70\n",
            "O valor do gasto com a gorjeta de 189.7 é de: R$18.97\n"
          ]
        }
      ]
    },
    {
      "cell_type": "markdown",
      "source": [
        "***7. Faça um programa que receba um número inteiro e que imprima o antecessor, o sucessor, o dobro e a metade do número informado.***"
      ],
      "metadata": {
        "id": "Bu1POnCUz4-K"
      }
    },
    {
      "cell_type": "code",
      "source": [
        "num = int(input(\"Digite um número inteiro: \"))\n",
        "\n",
        "oper1 = num - 1\n",
        "oper2 = num + 1\n",
        "oper3 = num * 2\n",
        "oper4 = num / 2\n",
        "\n",
        "print(\"O antecessor do número %s é: %s\" %(num, oper1))\n",
        "print(\"O sucessor do número %s é: %s\" %(num, oper2))\n",
        "print(\"O dobro do número %s é: %s\" %(num, oper3))\n",
        "print(\"A metade do número %s é: %s\" %(num, oper4))"
      ],
      "metadata": {
        "colab": {
          "base_uri": "https://localhost:8080/"
        },
        "id": "YTYA8c8f0uGx",
        "outputId": "8fe80ac9-c28f-4f7b-809d-f0637e0cf052"
      },
      "execution_count": null,
      "outputs": [
        {
          "output_type": "stream",
          "name": "stdout",
          "text": [
            "Digite um número inteiro: 8\n",
            "O antecessor do número 8 é: 7\n",
            "O sucessor do número 8 é: 9\n",
            "O dobro do número 8 é: 16\n",
            "A metade do número 8 é: 4.0\n"
          ]
        }
      ]
    },
    {
      "cell_type": "markdown",
      "source": [
        "***8. Faça o programa que, tendo como dados de entrada a altura (H - em metros) de um homem, calcule e apresente seu peso ideal utilizando a seguinte fórmula:*** \n",
        "\n",
        "* Peso ideal (P) = (72,7 * H) - 58."
      ],
      "metadata": {
        "id": "AZJx7ZUX2d_r"
      }
    },
    {
      "cell_type": "code",
      "source": [
        "\n",
        "alt = float(input(\"Digite a altura em metros: \"))\n",
        "Pesoideal = (72.7 * alt) - 58\n",
        "\n",
        "print(\"A altura de %s metros, o peso ideal é de: %s kg\" %(alt, round(Pesoideal,2)))"
      ],
      "metadata": {
        "colab": {
          "base_uri": "https://localhost:8080/"
        },
        "id": "8PeLnrT64GAK",
        "outputId": "4d00eec6-6b6f-44c6-b064-120c969e4e03"
      },
      "execution_count": null,
      "outputs": [
        {
          "output_type": "stream",
          "name": "stdout",
          "text": [
            "Digite a altura em metros: 1.72\n",
            "A altura de 1.72 metros, o peso ideal é de: 67.04 kg\n"
          ]
        }
      ]
    },
    {
      "cell_type": "markdown",
      "source": [
        "***9. Faça o mesmo programa do item interior, utilizando a fórmula para o cálculo do peso ideal para mulheres:***\n",
        "\n",
        "\n",
        "\n",
        "* Peso ideal (P) = (62,1*H) - 44,7.\n",
        "\n"
      ],
      "metadata": {
        "id": "Vc9o4pU5_5LI"
      }
    },
    {
      "cell_type": "code",
      "source": [
        "alt = float(input(\"Digite a altura em metros: \"))\n",
        "Pesoideal = (62.1 * alt) - 44.7\n",
        "\n",
        "print(\"A altura de %s metros, o peso ideal é de: %s kg\" %(alt, round(Pesoideal,2)))"
      ],
      "metadata": {
        "colab": {
          "base_uri": "https://localhost:8080/"
        },
        "id": "P80URb_UBSow",
        "outputId": "32ca567b-9019-42a9-cdce-a427e9ea8a37"
      },
      "execution_count": null,
      "outputs": [
        {
          "output_type": "stream",
          "name": "stdout",
          "text": [
            "Digite a altura em metros: 1.68\n",
            "A altura de 1.68 metros, o peso ideal é de: 59.63 kg\n"
          ]
        }
      ]
    },
    {
      "cell_type": "markdown",
      "source": [
        "***10. Faça um programa que leia duas variáveis e troque o conteúdo dessas duas variáveis. Em seguida, imprima o valor dessas variáveis invertido. Exemplo: A = 7, B = 9. Saída: A = 9, B = 7.***\n"
      ],
      "metadata": {
        "id": "8EP8Fvw0Bzdf"
      }
    },
    {
      "cell_type": "code",
      "source": [
        "var1 = input(\"Digite a primeira variável: \")\n",
        "var2 = input(\"Digite a segunda variável: \")\n",
        "\n",
        "var1, var2 = var2, var1\n",
        "\n",
        "print(\"Primeira = %s e Segunda = %s\" %(var1, var2))"
      ],
      "metadata": {
        "colab": {
          "base_uri": "https://localhost:8080/"
        },
        "id": "9nb5p8fSD-Qo",
        "outputId": "8a883240-4ac8-4a2f-81ae-bf90105a8589"
      },
      "execution_count": null,
      "outputs": [
        {
          "output_type": "stream",
          "name": "stdout",
          "text": [
            "Digite a primeira variável: 40\n",
            "Digite a segunda variável: 90\n",
            "Primeira = 90 e Segunda = 40\n"
          ]
        }
      ]
    },
    {
      "cell_type": "markdown",
      "source": [
        "***11. Considerando uma eleição de apenas dois candidatos, faça um programa que leia o número total de eleitores, o número de votos do primeiro candidato e o número de votos do segundo candidato. Em seguida, o programa deverá apresentar o percentual de votos de cada um dos candidatos e o percentual de votos nulos.***\n"
      ],
      "metadata": {
        "id": "Tln0H93QFNTy"
      }
    },
    {
      "cell_type": "code",
      "source": [
        "total_votos = int(input(\"Digite o número total de eleitores: \"))\n",
        "votos_candidato1 = int(input(\"Digite o número de votos do primeiro candidato: \"))\n",
        "votos_candidato2 = int(input(\"Digite o número de votos do segundo candidato: \"))\n",
        "\n",
        "percentual_candidato1 = (votos_candidato1 / total_votos) * 100\n",
        "percentual_candidato2 = (votos_candidato2 / total_votos) * 100\n",
        "\n",
        "print(f\"O percentual de votos do primeiro candidato é {percentual_candidato1:.2f}%\")\n",
        "print(f\"O percentual de votos do segundo candidato é {percentual_candidato2:.2f}%\")\n",
        "\n"
      ],
      "metadata": {
        "colab": {
          "base_uri": "https://localhost:8080/"
        },
        "id": "eli_LphDFakD",
        "outputId": "b4864d34-d701-458f-ddaf-6ef5644490b5"
      },
      "execution_count": null,
      "outputs": [
        {
          "name": "stdout",
          "output_type": "stream",
          "text": [
            "Digite o número total de eleitores: 250\n"
          ]
        }
      ]
    }
  ]
}