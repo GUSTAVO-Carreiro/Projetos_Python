{
  "nbformat": 4,
  "nbformat_minor": 0,
  "metadata": {
    "colab": {
      "provenance": []
    },
    "kernelspec": {
      "name": "python3",
      "display_name": "Python 3"
    },
    "language_info": {
      "name": "python"
    }
  },
  "cells": [
    {
      "cell_type": "markdown",
      "source": [
        "***1. Faça um programa que receba dois números e mostre o maior e o menor. Emita uma mensagem, caso os dois sejam iguais.***"
      ],
      "metadata": {
        "id": "Ds9HmHIyMNPW"
      }
    },
    {
      "cell_type": "code",
      "source": [
        "num1 = float(input(\"Digite o primeiro número: \"))\n",
        "num2 = float(input(\"Digite o segundo número: \"))\n",
        "\n",
        "if num1 > num2:\n",
        "    print(\"O maior número é\", num1)\n",
        "    print(\"O menor número é\", num2)\n",
        "elif num2 > num1:\n",
        "    print(\"O maior número é\", num2)\n",
        "    print(\"O menor número é\", num1)\n",
        "else:\n",
        "    print(\"Os dois números são iguais.\")"
      ],
      "metadata": {
        "id": "uUf6apIqNIUH",
        "colab": {
          "base_uri": "https://localhost:8080/"
        },
        "outputId": "6829c049-4651-4d0f-f549-5eb1f0eb979d"
      },
      "execution_count": null,
      "outputs": [
        {
          "output_type": "stream",
          "name": "stdout",
          "text": [
            "Digite o primeiro número: 7\n",
            "Digite o segundo número: 10\n",
            "O maior número é 10.0\n",
            "O menor número é 7.0\n"
          ]
        }
      ]
    },
    {
      "cell_type": "markdown",
      "source": [
        "***2. Faça um programa que receba as duas notas de um aluno, calcule sua média, e que imprima a sua situação:*** \n"
      ],
      "metadata": {
        "id": "UJk_2ZRbdEpl"
      }
    },
    {
      "cell_type": "code",
      "source": [
        "n1 = float(input(\"Digite a primeira nota: \"))\n",
        "n2 = float(input(\"Digite a segunda nota: \"))\n",
        "\n",
        "media = (n1 + n2) / 2\n",
        "\n",
        "print(\"A média do aluno é:\", media)\n",
        "\n",
        "if media >= 7:\n",
        "  print(\"Aluno Aprovado!!!\")\n",
        "else:\n",
        "  print(\"Aluno Reprovado\")"
      ],
      "metadata": {
        "colab": {
          "base_uri": "https://localhost:8080/"
        },
        "id": "-eKlefGZdZpL",
        "outputId": "8e6e65c8-c528-4176-9942-65b77bd7319d"
      },
      "execution_count": null,
      "outputs": [
        {
          "output_type": "stream",
          "name": "stdout",
          "text": [
            "Digite a primeira nota: 5\n",
            "Digite a segunda nota: 6\n",
            "A média do aluno é: 5.5\n",
            "Aluno Reprovado\n"
          ]
        }
      ]
    },
    {
      "cell_type": "markdown",
      "source": [
        "***3. Faça um programa que receba 3 notas de um aluno, calcule e mostre uma mensagem de acordo com sua média:***\n"
      ],
      "metadata": {
        "id": "-WaJpMz1gdgj"
      }
    },
    {
      "cell_type": "code",
      "source": [
        "n1 = float(input(\"Digite a primeira nota: \"))\n",
        "n2 = float(input(\"Digite a segunda nota: \"))\n",
        "n3 = float(input(\"Digite a terceira nota: \"))\n",
        "\n",
        "media = (n1 + n2 + n3) / 3\n",
        "\n",
        "print(\"A média do aluno é:\", media)\n",
        "\n",
        "if media >= 0 and media < 3:\n",
        "    print(\"REPROVADO\")\n",
        "elif media >= 3 and media < 7:\n",
        "    print(\"EXAME\")\n",
        "elif media >= 7 and media <= 10:\n",
        "    print(\"APROVADO\")\n"
      ],
      "metadata": {
        "colab": {
          "base_uri": "https://localhost:8080/"
        },
        "id": "O991NScagla4",
        "outputId": "fd28a716-d8e6-48fa-e646-30c930ea14ba"
      },
      "execution_count": null,
      "outputs": [
        {
          "output_type": "stream",
          "name": "stdout",
          "text": [
            "Digite a primeira nota: 7\n",
            "Digite a segunda nota: 8\n",
            "Digite a terceira nota: 9\n",
            "A média do aluno é: 8.0\n",
            "APROVADO\n"
          ]
        }
      ]
    },
    {
      "cell_type": "markdown",
      "source": [
        "***4. Dados três valores X,Y,Z, verificar se eles podem ser os comprimentos dos lados de um triângulo. Se eles não formarem um triângulo escrever uma mensagem. Considerar que o comprimento de cada lado de um triângulo é menor que a soma dos outros dois lados.***\n"
      ],
      "metadata": {
        "id": "c0O2kvrFjoYb"
      }
    },
    {
      "cell_type": "code",
      "source": [],
      "metadata": {
        "id": "1C40nb0Uj1Sa"
      },
      "execution_count": null,
      "outputs": []
    },
    {
      "cell_type": "markdown",
      "source": [
        "***5. Faça um programa que leia o sexo e a altura (H - em metros) de uma pessoa, calcule e apresente seu peso ideal utilizando as seguintes fórmulas:***\n",
        "\n",
        "\n",
        "\n",
        "*   Peso ideal (homens) = (72,7 * H) - 58 \n",
        "*   Peso ideal (mulheres) = (62,1 * H) - 44,7\n",
        "\n"
      ],
      "metadata": {
        "id": "tTklJtXIcP_a"
      }
    },
    {
      "cell_type": "code",
      "source": [
        "sexo = input(\"Qual é o seu sexo? (M/F) \")\n",
        "altura = float(input(\"Qual é a sua altura? (em metros) \"))\n",
        "\n",
        "if sexo == \"M\":\n",
        "    peso_ideal = (72.7 * altura) - 58\n",
        "    print(f\"Seu peso ideal é {peso_ideal:.2f} Kg.\")\n",
        "elif sexo == \"F\":\n",
        "    peso_ideal = (62.1 * altura) - 44.7\n",
        "    print(f\"Seu peso ideal é {peso_ideal:.2f} Kg.\")\n",
        "else:\n",
        "    print(\"Sexo inválido.\")"
      ],
      "metadata": {
        "colab": {
          "base_uri": "https://localhost:8080/"
        },
        "id": "SEIbS5frdMhB",
        "outputId": "87f71bff-5087-409d-9c0e-f4df61820dea"
      },
      "execution_count": null,
      "outputs": [
        {
          "output_type": "stream",
          "name": "stdout",
          "text": [
            "Qual é o seu sexo? (M/F) D\n",
            "Qual é a sua altura? (em metros) 1.80\n",
            "Sexo inválido.\n"
          ]
        }
      ]
    },
    {
      "cell_type": "markdown",
      "source": [
        "***6. Construa um programa para determinar se o indivíduo está com um peso favorável. Essa situação é determinada através do IMC (Índice de Massa Corpórea), que é definida como sendo a relação entre o peso (PESO – em kg) e o quadrado da Altura (ALTURA – em m) do indivíduo. Ou seja, IMC= PESO/ALTURA2.***\n"
      ],
      "metadata": {
        "id": "aTdkF34rrgW2"
      }
    },
    {
      "cell_type": "code",
      "source": [
        "Peso = float(input(\"Digite o seu peso: \"))\n",
        "Altura = float(input(\"Digite a sua altura em metros: \"))\n",
        "IMC = (Peso/Altura ** 2)\n",
        "\n",
        "if IMC < 20:\n",
        "  print(\"O indivíduo está abaixo do peso.\")\n",
        "elif IMC >= 20 and IMC <= 25:\n",
        "  print(\"O indivíduo está no peso normal.\")\n",
        "elif IMC >= 25 and IMC <= 30:\n",
        "  print(\"O indivíduo está em sobre peso.\")\n",
        "elif IMC >= 30 and IMC <= 40:\n",
        "  print(\"O indivíduo está obeso.\")\n",
        "elif IMC >= 40:\n",
        "  print(\"O indivíduo está obeso mórbido.\")"
      ],
      "metadata": {
        "colab": {
          "base_uri": "https://localhost:8080/"
        },
        "id": "85NfFETTrqGE",
        "outputId": "d2fb77ac-303a-4e2b-ba96-8ae523129383"
      },
      "execution_count": null,
      "outputs": [
        {
          "output_type": "stream",
          "name": "stdout",
          "text": [
            "Digite o seu peso: 105\n",
            "Digite a sua altura em metros: 1.74\n",
            "O indivíduo está obeso.\n"
          ]
        }
      ]
    },
    {
      "cell_type": "markdown",
      "source": [
        "***7. Uma empresa decide dar aumento de 30% aos funcionários com salários inferiores a R$1000,00. Faça um programa que receba o salário do funcionário e mostre o valor do salário reajustado ou uma mensagem, caso o funcionário não tenha direito ao aumento.***"
      ],
      "metadata": {
        "id": "PdIx-ixSuvkY"
      }
    },
    {
      "cell_type": "code",
      "source": [
        "S = float(input(\"Digite seu salário: \"))\n",
        "A = 30/100\n",
        "\n",
        "if (S <= 1000):\n",
        "\n",
        "  Conta = S * A\n",
        "\n",
        "  print(\"O salário reajustado é de:\", Conta + S)\n",
        "\n",
        "else:\n",
        "  print(\"O usuário não possui direito a um aumento!\")"
      ],
      "metadata": {
        "colab": {
          "base_uri": "https://localhost:8080/"
        },
        "id": "q075Bg5yu47i",
        "outputId": "faab559f-fecf-4e34-f4de-6f790f065021"
      },
      "execution_count": null,
      "outputs": [
        {
          "output_type": "stream",
          "name": "stdout",
          "text": [
            "Digite seu salário: 400\n",
            "O salário reajustado é de: 520.0\n"
          ]
        }
      ]
    },
    {
      "cell_type": "markdown",
      "source": [
        "***8. Faça um programa que receba a idade de um nadador e mostre a sua categoria.***"
      ],
      "metadata": {
        "id": "HC5yMyxkwrbe"
      }
    },
    {
      "cell_type": "code",
      "source": [
        "Idade = int(input(\"Digite a sua idade: \"))\n",
        "\n",
        "if Idade <= 7:\n",
        "  print(\"Categoria Infantil.\")\n",
        "elif Idade >= 8 and Idade <= 10:\n",
        "  print(\"Categoria Juvenil.\")\n",
        "elif Idade >= 11 and Idade <= 15:\n",
        "  print(\"Categoria Adolescente.\")\n",
        "elif Idade >= 16 and Idade <= 30:\n",
        "  print(\"Categoria Adulta.\")\n",
        "elif Idade >= 30:\n",
        "  print(\"Categoria Senior.\")"
      ],
      "metadata": {
        "colab": {
          "base_uri": "https://localhost:8080/"
        },
        "id": "tT4WQM1uw4Qe",
        "outputId": "3c87772d-a05f-4ef7-d19d-46a495f62b6d"
      },
      "execution_count": null,
      "outputs": [
        {
          "output_type": "stream",
          "name": "stdout",
          "text": [
            "Digite a sua idade: 23\n",
            "Categoria Adulta.\n"
          ]
        }
      ]
    },
    {
      "cell_type": "markdown",
      "source": [
        "***9. Faça um programa que leia a idade de uma pessoa e informe a sua classe eleitoral:***\n",
        "\n",
        "*   não eleitor (abaixo de 16 anos);\n",
        "*   eleitor obrigatório (entre a faixa de 18 e menor de 65 anos); \n",
        "*   eleitor facultativo (de 16 até 18 anos e maior de 65 anos, inclusive).\n",
        "\n"
      ],
      "metadata": {
        "id": "IfrMjByHyJKY"
      }
    },
    {
      "cell_type": "code",
      "source": [
        "Idade = int(input(\"Digite a sua idade: \"))\n",
        "\n",
        "if Idade <= 16:\n",
        "  print(\"Indivíduo não eleitor.\")\n",
        "elif Idade >= 18 and Idade <= 65:\n",
        "  print(\"Indivíduo eleitor obrigatório.\")\n",
        "elif Idade >= 16 and Idade >= 65:\n",
        "  print(\"Indivíduo eleitor facultativo.\")\n"
      ],
      "metadata": {
        "colab": {
          "base_uri": "https://localhost:8080/"
        },
        "id": "6fF4MH6szcVO",
        "outputId": "81c14398-0045-4fcb-ef0b-03cd91d36204"
      },
      "execution_count": null,
      "outputs": [
        {
          "output_type": "stream",
          "name": "stdout",
          "text": [
            "Digite a sua idade: 23\n",
            "Indivíduo eleitor obrigatório.\n"
          ]
        }
      ]
    },
    {
      "cell_type": "markdown",
      "source": [
        "***10. Faça um programa que leia um número inteiro entre 1 e 7 e escreva o dia da semana correspondente. Caso o usuário digite um número fora desse intervalo, deverá aparecer uma mensagem informando que não existe dia da semana com esse número.***\n"
      ],
      "metadata": {
        "id": "diSC8CtG04XI"
      }
    },
    {
      "cell_type": "code",
      "source": [
        "Dia_Semana = int(input(\"Digite um número entre 1 e 7: \"))\n",
        "\n",
        "if Dia_Semana == 1:\n",
        "    print(\"Domingo\")\n",
        "elif Dia_Semana == 2:\n",
        "    print(\"Segunda-feira\")\n",
        "elif Dia_Semana == 3:\n",
        "    print(\"Terça-feira\")\n",
        "elif Dia_Semana == 4:\n",
        "    print(\"Quarta-feira\")\n",
        "elif Dia_Semana == 5:\n",
        "    print(\"Quinta-feira\")\n",
        "elif Dia_Semana == 6:\n",
        "    print(\"Sexta-feira\")\n",
        "elif Dia_Semana == 7:\n",
        "    print(\"Sábado\")\n",
        "else:\n",
        "    print(\"Não existe dia da semana com esse número.\")\n",
        "\n"
      ],
      "metadata": {
        "colab": {
          "base_uri": "https://localhost:8080/"
        },
        "id": "k28Rz7-Y1icm",
        "outputId": "62274ceb-2792-492e-cf9e-17c05ec93a98"
      },
      "execution_count": null,
      "outputs": [
        {
          "output_type": "stream",
          "name": "stdout",
          "text": [
            "Digite um número entre 1 e 7: 5\n",
            "Quinta-feira\n"
          ]
        }
      ]
    },
    {
      "cell_type": "markdown",
      "source": [
        "***11. Faça um programa que leia um número inteiro entre 1 e 12 e escrever o mês correspondente. Caso o usuário digite um número fora desse intervalo, deverá aparecer uma mensagem informando que não existe mês com este número.***\n"
      ],
      "metadata": {
        "id": "zWc-8DAT4n19"
      }
    },
    {
      "cell_type": "code",
      "source": [
        "Mes_Ano = int(input(\"Digite um número entre 1 e 12: \"))\n",
        "\n",
        "if Mes_Ano == 1:\n",
        "    print(\"Janeiro\")\n",
        "elif Mes_Ano == 2:\n",
        "    print(\"Fevereiro\")\n",
        "elif Mes_Ano == 3:\n",
        "    print(\"Março\")\n",
        "elif Mes_Ano == 4:\n",
        "    print(\"Abril\")\n",
        "elif Mes_Ano == 5:\n",
        "    print(\"Maio\")\n",
        "elif Mes_Ano == 6:\n",
        "    print(\"Junho\")\n",
        "elif Mes_Ano == 7:\n",
        "    print(\"Julho\")\n",
        "elif Mes_Ano == 8:\n",
        "  print(\"Agosto\")\n",
        "elif Mes_Ano == 9:\n",
        "  print(\"Setembro\")\n",
        "elif Mes_Ano == 10:\n",
        "  print(\"Outubro\")\n",
        "elif Mes_Ano == 11:\n",
        "  print(\"Novembro\")\n",
        "elif Mes_Ano == 12:\n",
        "  print(\"Dezembro\")    \n",
        "\n",
        "else:\n",
        "    print(\"Não existe mês do ano com esse número.\")"
      ],
      "metadata": {
        "colab": {
          "base_uri": "https://localhost:8080/"
        },
        "id": "8WFxCKhk6nH3",
        "outputId": "bfb69986-8ba6-4072-f7a3-e0f3dd79ae6c"
      },
      "execution_count": null,
      "outputs": [
        {
          "output_type": "stream",
          "name": "stdout",
          "text": [
            "Digite um número entre 1 e 12: 13\n",
            "Não existe mês do ano com esse número.\n"
          ]
        }
      ]
    },
    {
      "cell_type": "markdown",
      "source": [
        "***12. Faça um programa que solicite ao usuário que informe dois números e que exiba o seguinte menu:***\n",
        "\n",
        "\n",
        "\n",
        "1.   Somar.\n",
        "1.   Subtrair.\n",
        "1.   Multiplicar.\n",
        "2.   Dividir.\n",
        "1.   Sair.\n",
        "\n",
        "\n",
        "\n",
        "\n",
        "\n"
      ],
      "metadata": {
        "id": "Ak2dIXg179lN"
      }
    },
    {
      "cell_type": "code",
      "source": [
        "while True:\n",
        "    print(\"1 - Somar\")\n",
        "    print(\"2 - Subtrair\")\n",
        "    print(\"3 - Multiplicar\")\n",
        "    print(\"4 - Dividir\")\n",
        "    print(\"5 - Sair\")\n",
        "    op = int(input(\"Digite a opção desejada: \"))\n",
        "    if op == 5:\n",
        "        break\n",
        "    num1 = float(input(\"Digite o primeiro número: \"))\n",
        "    num2 = float(input(\"Digite o segundo número: \"))\n",
        "    if op == 1:\n",
        "        print(num1 + num2)\n",
        "    elif op == 2:\n",
        "        print(num1 - num2)\n",
        "    elif op == 3:\n",
        "        print(num1 * num2)\n",
        "    elif op == 4:\n",
        "        if num2 == 0:\n",
        "            print(\"Não é possível dividir por zero!\")\n",
        "        else:\n",
        "            print(num1 / num2)\n",
        "\n"
      ],
      "metadata": {
        "colab": {
          "base_uri": "https://localhost:8080/",
          "height": 623
        },
        "id": "0wZ0lqw38imB",
        "outputId": "6ba904df-5476-4f06-9885-4bd3781ea288"
      },
      "execution_count": null,
      "outputs": [
        {
          "output_type": "stream",
          "name": "stdout",
          "text": [
            "1 - Somar\n",
            "2 - Subtrair\n",
            "3 - Multiplicar\n",
            "4 - Dividir\n",
            "5 - Sair\n",
            "Digite a opção desejada: 4\n",
            "Digite o primeiro número: 7\n",
            "Digite o segundo número: 3\n",
            "2.3333333333333335\n",
            "1 - Somar\n",
            "2 - Subtrair\n",
            "3 - Multiplicar\n",
            "4 - Dividir\n",
            "5 - Sair\n"
          ]
        },
        {
          "output_type": "error",
          "ename": "KeyboardInterrupt",
          "evalue": "ignored",
          "traceback": [
            "\u001b[0;31m---------------------------------------------------------------------------\u001b[0m",
            "\u001b[0;31mKeyboardInterrupt\u001b[0m                         Traceback (most recent call last)",
            "\u001b[0;32m<ipython-input-33-63835c852944>\u001b[0m in \u001b[0;36m<cell line: 1>\u001b[0;34m()\u001b[0m\n\u001b[1;32m      5\u001b[0m     \u001b[0mprint\u001b[0m\u001b[0;34m(\u001b[0m\u001b[0;34m\"4 - Dividir\"\u001b[0m\u001b[0;34m)\u001b[0m\u001b[0;34m\u001b[0m\u001b[0;34m\u001b[0m\u001b[0m\n\u001b[1;32m      6\u001b[0m     \u001b[0mprint\u001b[0m\u001b[0;34m(\u001b[0m\u001b[0;34m\"5 - Sair\"\u001b[0m\u001b[0;34m)\u001b[0m\u001b[0;34m\u001b[0m\u001b[0;34m\u001b[0m\u001b[0m\n\u001b[0;32m----> 7\u001b[0;31m     \u001b[0mop\u001b[0m \u001b[0;34m=\u001b[0m \u001b[0mint\u001b[0m\u001b[0;34m(\u001b[0m\u001b[0minput\u001b[0m\u001b[0;34m(\u001b[0m\u001b[0;34m\"Digite a opção desejada: \"\u001b[0m\u001b[0;34m)\u001b[0m\u001b[0;34m)\u001b[0m\u001b[0;34m\u001b[0m\u001b[0;34m\u001b[0m\u001b[0m\n\u001b[0m\u001b[1;32m      8\u001b[0m     \u001b[0;32mif\u001b[0m \u001b[0mop\u001b[0m \u001b[0;34m==\u001b[0m \u001b[0;36m5\u001b[0m\u001b[0;34m:\u001b[0m\u001b[0;34m\u001b[0m\u001b[0;34m\u001b[0m\u001b[0m\n\u001b[1;32m      9\u001b[0m         \u001b[0;32mbreak\u001b[0m\u001b[0;34m\u001b[0m\u001b[0;34m\u001b[0m\u001b[0m\n",
            "\u001b[0;32m/usr/local/lib/python3.10/dist-packages/ipykernel/kernelbase.py\u001b[0m in \u001b[0;36mraw_input\u001b[0;34m(self, prompt)\u001b[0m\n\u001b[1;32m    849\u001b[0m                 \u001b[0;34m\"raw_input was called, but this frontend does not support input requests.\"\u001b[0m\u001b[0;34m\u001b[0m\u001b[0;34m\u001b[0m\u001b[0m\n\u001b[1;32m    850\u001b[0m             )\n\u001b[0;32m--> 851\u001b[0;31m         return self._input_request(str(prompt),\n\u001b[0m\u001b[1;32m    852\u001b[0m             \u001b[0mself\u001b[0m\u001b[0;34m.\u001b[0m\u001b[0m_parent_ident\u001b[0m\u001b[0;34m,\u001b[0m\u001b[0;34m\u001b[0m\u001b[0;34m\u001b[0m\u001b[0m\n\u001b[1;32m    853\u001b[0m             \u001b[0mself\u001b[0m\u001b[0;34m.\u001b[0m\u001b[0m_parent_header\u001b[0m\u001b[0;34m,\u001b[0m\u001b[0;34m\u001b[0m\u001b[0;34m\u001b[0m\u001b[0m\n",
            "\u001b[0;32m/usr/local/lib/python3.10/dist-packages/ipykernel/kernelbase.py\u001b[0m in \u001b[0;36m_input_request\u001b[0;34m(self, prompt, ident, parent, password)\u001b[0m\n\u001b[1;32m    893\u001b[0m             \u001b[0;32mexcept\u001b[0m \u001b[0mKeyboardInterrupt\u001b[0m\u001b[0;34m:\u001b[0m\u001b[0;34m\u001b[0m\u001b[0;34m\u001b[0m\u001b[0m\n\u001b[1;32m    894\u001b[0m                 \u001b[0;31m# re-raise KeyboardInterrupt, to truncate traceback\u001b[0m\u001b[0;34m\u001b[0m\u001b[0;34m\u001b[0m\u001b[0m\n\u001b[0;32m--> 895\u001b[0;31m                 \u001b[0;32mraise\u001b[0m \u001b[0mKeyboardInterrupt\u001b[0m\u001b[0;34m(\u001b[0m\u001b[0;34m\"Interrupted by user\"\u001b[0m\u001b[0;34m)\u001b[0m \u001b[0;32mfrom\u001b[0m \u001b[0;32mNone\u001b[0m\u001b[0;34m\u001b[0m\u001b[0;34m\u001b[0m\u001b[0m\n\u001b[0m\u001b[1;32m    896\u001b[0m             \u001b[0;32mexcept\u001b[0m \u001b[0mException\u001b[0m \u001b[0;32mas\u001b[0m \u001b[0me\u001b[0m\u001b[0;34m:\u001b[0m\u001b[0;34m\u001b[0m\u001b[0;34m\u001b[0m\u001b[0m\n\u001b[1;32m    897\u001b[0m                 \u001b[0mself\u001b[0m\u001b[0;34m.\u001b[0m\u001b[0mlog\u001b[0m\u001b[0;34m.\u001b[0m\u001b[0mwarning\u001b[0m\u001b[0;34m(\u001b[0m\u001b[0;34m\"Invalid Message:\"\u001b[0m\u001b[0;34m,\u001b[0m \u001b[0mexc_info\u001b[0m\u001b[0;34m=\u001b[0m\u001b[0;32mTrue\u001b[0m\u001b[0;34m)\u001b[0m\u001b[0;34m\u001b[0m\u001b[0;34m\u001b[0m\u001b[0m\n",
            "\u001b[0;31mKeyboardInterrupt\u001b[0m: Interrupted by user"
          ]
        }
      ]
    }
  ]
}