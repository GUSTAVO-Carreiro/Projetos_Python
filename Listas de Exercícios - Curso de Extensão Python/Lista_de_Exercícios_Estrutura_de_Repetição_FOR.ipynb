{
  "nbformat": 4,
  "nbformat_minor": 0,
  "metadata": {
    "colab": {
      "provenance": []
    },
    "kernelspec": {
      "name": "python3",
      "display_name": "Python 3"
    },
    "language_info": {
      "name": "python"
    }
  },
  "cells": [
    {
      "cell_type": "markdown",
      "source": [
        "***1. Faça um programa que faça a leitura de 5 valores, e para cada valor, mostre o seu dobro na tela.***"
      ],
      "metadata": {
        "id": "lWO_eyhS9Utu"
      }
    },
    {
      "cell_type": "code",
      "source": [
        "for i in range(5):\n",
        "  valor = int(input(\"Digite um valor: \"))\n",
        "  print(f\"O dobro de {valor} é {valor * 2}\")"
      ],
      "metadata": {
        "id": "_ykgdtJH9jQU"
      },
      "execution_count": null,
      "outputs": []
    },
    {
      "cell_type": "markdown",
      "source": [
        "***2. Faça um programa que leia um número e que imprima os números ímpares de 1 até o número informado.***"
      ],
      "metadata": {
        "id": "8YL1t8GF9kSV"
      }
    },
    {
      "cell_type": "code",
      "source": [
        "numero = int(input(\"Digite um número inteiro: \"))\n",
        "for i in range(1, numero+1):\n",
        "    if i % 2 != 0:\n",
        "        print(i)"
      ],
      "metadata": {
        "id": "Ptl4oP7v9yTo"
      },
      "execution_count": null,
      "outputs": []
    },
    {
      "cell_type": "markdown",
      "source": [
        "***3. Leia um número e imprima a tabuada de multiplicar deste número.***"
      ],
      "metadata": {
        "id": "ZRXUTVvm90Ae"
      }
    },
    {
      "cell_type": "code",
      "source": [
        "tabuada = int(input(\"Tabuada do número: \"))\n",
        "\n",
        "for count in range(10):\n",
        "    print(\"%d x %d = %d\" %(tabuada, count+1, tabuada*(count+1)) )"
      ],
      "metadata": {
        "id": "ldsluPRJh71C"
      },
      "execution_count": null,
      "outputs": []
    },
    {
      "cell_type": "markdown",
      "source": [
        "***4. Faça um programa que leia dois números inteiros e que imprima todos os números inteiros existentes entre o menor e o maior número informados.***\n"
      ],
      "metadata": {
        "id": "4QIq0d2kiJxf"
      }
    },
    {
      "cell_type": "code",
      "source": [
        "num1 = int(input(\"Digite o primeiro número inteiro: \"))\n",
        "num2 = int(input(\"Digite o segundo número inteiro: \"))\n",
        "\n",
        "if num1 > num2:\n",
        "    num1, num2 = num2, num1\n",
        "\n",
        "for i in range(num1 + 1, num2):\n",
        "    print(i)"
      ],
      "metadata": {
        "id": "vOFJ92lkiREH"
      },
      "execution_count": null,
      "outputs": []
    },
    {
      "cell_type": "markdown",
      "source": [
        "***5. Faça um programa que leia um número que calcule a soma dos números inteiros entre 1 e o número informado.***\n"
      ],
      "metadata": {
        "id": "ZmkR3cszi3_E"
      }
    },
    {
      "cell_type": "code",
      "source": [
        "num = int(input(\"Digite um número inteiro: \"))\n",
        "soma = 0\n",
        "for i in range(1, num+1):\n",
        "    soma += i\n",
        "print(\"A soma dos números inteiros entre 1 e\", num, \"é\", soma)"
      ],
      "metadata": {
        "id": "VxsNSy3pkPZ7"
      },
      "execution_count": null,
      "outputs": []
    },
    {
      "cell_type": "markdown",
      "source": [
        "***6. Faça um programa que leia um número e que calcule o fatorial deste número.***"
      ],
      "metadata": {
        "id": "38ZXFAYKl70v"
      }
    },
    {
      "cell_type": "code",
      "source": [
        "def fatorial(numero):\n",
        "    resultado = 1\n",
        "    for i in range(1, numero + 1):\n",
        "        resultado *= i\n",
        "    return resultado\n",
        "\n",
        "numero = 5\n",
        "fatorial = fatorial(numero)\n",
        "\n",
        "print(fatorial)"
      ],
      "metadata": {
        "id": "K1UOuYqRmBvP"
      },
      "execution_count": null,
      "outputs": []
    },
    {
      "cell_type": "markdown",
      "source": [
        "***7. Faça um programa que solicite ao usuário que informe o peso, em kg, de 10 pessoas, e em seguida, exiba a média desses pesos.***\n"
      ],
      "metadata": {
        "id": "h8IFPUAhm1lo"
      }
    },
    {
      "cell_type": "code",
      "source": [
        "pesos = []\n",
        "for i in range(10):\n",
        "    peso = float(input(f\"Digite o peso da pessoa {i+1}: \"))\n",
        "    pesos.append(peso)\n",
        "\n",
        "media = sum(pesos) / len(pesos)\n",
        "print(f\"A média dos pesos é {media}\")"
      ],
      "metadata": {
        "id": "nmcOdrUEnCB_"
      },
      "execution_count": null,
      "outputs": []
    },
    {
      "cell_type": "markdown",
      "source": [
        "***8.  Faça um programa que leia o sexo e o peso de 10 pessoas, e mostre quantas pessoas do sexo masculino possuem peso entre 60 e 80 kg, bem como a quantidade de mulheres que possuem peso entre 50 e 70 kg.***\n"
      ],
      "metadata": {
        "id": "ohLuPj4cnmlR"
      }
    },
    {
      "cell_type": "code",
      "source": [
        "homens = 0\n",
        "mulheres = 0\n",
        "\n",
        "for i in range(10):\n",
        "    sexo = input(\"Digite o sexo da pessoa (M/F): \")\n",
        "    peso = float(input(\"Digite o peso da pessoa: \"))\n",
        "\n",
        "    if sexo == \"M\" and peso >= 60 and peso <= 80:\n",
        "        homens += 1\n",
        "    elif sexo == \"F\" and peso >= 50 and peso <= 70:\n",
        "        mulheres += 1\n",
        "\n",
        "print(\"Quantidade de homens com peso entre 60 e 80 kg:\", homens)\n",
        "print(\"Quantidade de mulheres com peso entre 50 e 70 kg:\", mulheres)"
      ],
      "metadata": {
        "id": "u5nc4hYdn8E3"
      },
      "execution_count": null,
      "outputs": []
    },
    {
      "cell_type": "markdown",
      "source": [
        "***9. Faça um programa que leia a idade e peso de sete pessoas. Calcule e mostre:***\n",
        "\n",
        "\n",
        "\n",
        "*   ***A quantidade de pessoas com mais de 90 Kg.***\n",
        "*   ***A média das idades das sete pessoas.***\n",
        "\n"
      ],
      "metadata": {
        "id": "2mFmyUYIpOtb"
      }
    },
    {
      "cell_type": "code",
      "source": [
        "idades = []\n",
        "pesos = []\n",
        "for i in range(7):\n",
        "    idade = int(input(\"Digite a idade da pessoa {}: \".format(i+1)))\n",
        "    peso = float(input(\"Digite o peso da pessoa {}: \".format(i+1)))\n",
        "    idades.append(idade)\n",
        "    pesos.append(peso)\n",
        "\n",
        "mais_de_90_kg = 0\n",
        "for peso in pesos:\n",
        "    if peso > 90:\n",
        "        mais_de_90_kg += 1\n",
        "\n",
        "media_idades = sum(idades) / len(idades)\n",
        "\n",
        "print(\"Quantidade de pessoas com mais de 90 kg: {}\".format(mais_de_90_kg))\n",
        "print(\"Média das idades das sete pessoas: {:.2f}\".format(media_idades))"
      ],
      "metadata": {
        "id": "c1X3Wy36ppJz"
      },
      "execution_count": null,
      "outputs": []
    },
    {
      "cell_type": "markdown",
      "source": [
        "***10. Faça um programa que leia um número e que imprima na tela se o número é primo ou não.***\n"
      ],
      "metadata": {
        "id": "WJN5FE7DrBeY"
      }
    },
    {
      "cell_type": "code",
      "source": [
        "num = int(input(\"Digite um número inteiro positivo: \"))\n",
        "\n",
        "if num > 1:\n",
        "    for i in range(2, num):\n",
        "        if (num % i) == 0:\n",
        "            print(num, \"não é um número primo\")\n",
        "            break\n",
        "    else:\n",
        "        print(num, \"é um número primo\")\n",
        "else:\n",
        "    print(num, \"não é um número primo\")"
      ],
      "metadata": {
        "id": "WgCDf-FSrLFW"
      },
      "execution_count": null,
      "outputs": []
    }
  ]
}